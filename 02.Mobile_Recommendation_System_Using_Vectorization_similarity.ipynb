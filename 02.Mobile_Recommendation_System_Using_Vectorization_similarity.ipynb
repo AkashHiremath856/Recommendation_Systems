{
 "cells": [
  {
   "cell_type": "markdown",
   "id": "01e6a743-9f33-4ae3-9895-467f76ab9c6c",
   "metadata": {},
   "source": [
    "## Mobile Recommendation System Using Vectorization Similarity"
   ]
  },
  {
   "cell_type": "code",
   "execution_count": 1,
   "id": "7e0bd400",
   "metadata": {
    "papermill": {
     "duration": 0.031126,
     "end_time": "2023-07-29T14:23:14.255645",
     "exception": false,
     "start_time": "2023-07-29T14:23:14.224519",
     "status": "completed"
    },
    "tags": []
   },
   "outputs": [],
   "source": [
    "import os\n",
    "import re\n",
    "import shutil\n",
    "import warnings\n",
    "\n",
    "import kaggle\n",
    "import numpy as np\n",
    "import pandas as pd\n",
    "from sklearn.feature_extraction.text import CountVectorizer\n",
    "from sklearn.metrics.pairwise import cosine_similarity"
   ]
  },
  {
   "cell_type": "code",
   "execution_count": 2,
   "id": "7c8fc470-b6db-45a7-9bbc-65ac919f04b9",
   "metadata": {},
   "outputs": [],
   "source": [
    "os.makedirs(\"./datasets\", exist_ok=True)\n",
    "if \"mobile_recommendation_system_dataset.csv\" not in os.listdir(\"./datasets/\"):\n",
    "    kaggle.api.dataset_download_files(\n",
    "        \"gyanprakashkushwaha/mobile-recommendation-system-dataset\"\n",
    "    )\n",
    "    shutil.unpack_archive(\n",
    "        \"mobile-recommendation-system-dataset.zip\", extract_dir=\"./datasets/\"\n",
    "    )"
   ]
  },
  {
   "cell_type": "code",
   "execution_count": 3,
   "id": "53e7057d",
   "metadata": {
    "papermill": {
     "duration": 0.088013,
     "end_time": "2023-07-29T14:23:14.353638",
     "exception": false,
     "start_time": "2023-07-29T14:23:14.265625",
     "status": "completed"
    },
    "tags": []
   },
   "outputs": [
    {
     "data": {
      "text/html": [
       "<div>\n",
       "<style scoped>\n",
       "    .dataframe tbody tr th:only-of-type {\n",
       "        vertical-align: middle;\n",
       "    }\n",
       "\n",
       "    .dataframe tbody tr th {\n",
       "        vertical-align: top;\n",
       "    }\n",
       "\n",
       "    .dataframe thead th {\n",
       "        text-align: right;\n",
       "    }\n",
       "</style>\n",
       "<table border=\"1\" class=\"dataframe\">\n",
       "  <thead>\n",
       "    <tr style=\"text-align: right;\">\n",
       "      <th></th>\n",
       "      <th>name</th>\n",
       "      <th>ratings</th>\n",
       "      <th>price</th>\n",
       "      <th>imgURL</th>\n",
       "      <th>corpus</th>\n",
       "    </tr>\n",
       "  </thead>\n",
       "  <tbody>\n",
       "    <tr>\n",
       "      <th>0</th>\n",
       "      <td>REDMI Note 12 Pro 5G (Onyx Black, 128 GB)</td>\n",
       "      <td>4.2</td>\n",
       "      <td>23999</td>\n",
       "      <td>https://rukminim2.flixcart.com/image/312/312/x...</td>\n",
       "      <td>Storage128 GBRAM6  SystemAndroid 12Processor T...</td>\n",
       "    </tr>\n",
       "    <tr>\n",
       "      <th>1</th>\n",
       "      <td>OPPO F11 Pro (Aurora Green, 128 GB)</td>\n",
       "      <td>4.5</td>\n",
       "      <td>₹20,999</td>\n",
       "      <td>https://rukminim2.flixcart.com/image/312/312/k...</td>\n",
       "      <td>Storage128 GBRAM6 GBExpandable Storage256GB  S...</td>\n",
       "    </tr>\n",
       "    <tr>\n",
       "      <th>2</th>\n",
       "      <td>REDMI Note 11 (Starburst White, 64 GB)</td>\n",
       "      <td>4.2</td>\n",
       "      <td>13149</td>\n",
       "      <td>https://rukminim2.flixcart.com/image/312/312/x...</td>\n",
       "      <td>Storage64 GBRAM4  SystemAndroid 11Processor Sp...</td>\n",
       "    </tr>\n",
       "    <tr>\n",
       "      <th>3</th>\n",
       "      <td>OnePlus Nord CE 5G (Blue Void, 256 GB)</td>\n",
       "      <td>4.1</td>\n",
       "      <td>21999</td>\n",
       "      <td>https://rukminim2.flixcart.com/image/312/312/x...</td>\n",
       "      <td>Storage256 GBRAM12  SystemAndroid Q 11Processo...</td>\n",
       "    </tr>\n",
       "    <tr>\n",
       "      <th>4</th>\n",
       "      <td>APPLE iPhone 13 mini (Blue, 128 GB)</td>\n",
       "      <td>4.6</td>\n",
       "      <td>3537</td>\n",
       "      <td>https://rukminim2.flixcart.com/image/312/312/k...</td>\n",
       "      <td>Storage128  SystemiOS 15Processor TypeA15 Bion...</td>\n",
       "    </tr>\n",
       "  </tbody>\n",
       "</table>\n",
       "</div>"
      ],
      "text/plain": [
       "                                        name  ratings    price  \\\n",
       "0  REDMI Note 12 Pro 5G (Onyx Black, 128 GB)      4.2    23999   \n",
       "1        OPPO F11 Pro (Aurora Green, 128 GB)      4.5  ₹20,999   \n",
       "2     REDMI Note 11 (Starburst White, 64 GB)      4.2    13149   \n",
       "3     OnePlus Nord CE 5G (Blue Void, 256 GB)      4.1    21999   \n",
       "4        APPLE iPhone 13 mini (Blue, 128 GB)      4.6     3537   \n",
       "\n",
       "                                              imgURL  \\\n",
       "0  https://rukminim2.flixcart.com/image/312/312/x...   \n",
       "1  https://rukminim2.flixcart.com/image/312/312/k...   \n",
       "2  https://rukminim2.flixcart.com/image/312/312/x...   \n",
       "3  https://rukminim2.flixcart.com/image/312/312/x...   \n",
       "4  https://rukminim2.flixcart.com/image/312/312/k...   \n",
       "\n",
       "                                              corpus  \n",
       "0  Storage128 GBRAM6  SystemAndroid 12Processor T...  \n",
       "1  Storage128 GBRAM6 GBExpandable Storage256GB  S...  \n",
       "2  Storage64 GBRAM4  SystemAndroid 11Processor Sp...  \n",
       "3  Storage256 GBRAM12  SystemAndroid Q 11Processo...  \n",
       "4  Storage128  SystemiOS 15Processor TypeA15 Bion...  "
      ]
     },
     "execution_count": 3,
     "metadata": {},
     "output_type": "execute_result"
    }
   ],
   "source": [
    "df = pd.read_csv(\n",
    "    \"datasets/mobile_recommendation_system_dataset.csv\",\n",
    "    index_col=False,\n",
    ")\n",
    "df.head()"
   ]
  },
  {
   "cell_type": "code",
   "execution_count": 4,
   "id": "4c8f1828",
   "metadata": {
    "papermill": {
     "duration": 0.020916,
     "end_time": "2023-07-29T14:23:14.384361",
     "exception": false,
     "start_time": "2023-07-29T14:23:14.363445",
     "status": "completed"
    },
    "tags": []
   },
   "outputs": [
    {
     "name": "stdout",
     "output_type": "stream",
     "text": [
      "396 : Storage128 GBRAM6 GBExpandable Storage1TB  SystemAndroid 11Processor TypeMediaTek Dimensity 700 (MT6833V)Processor Speed2.2 48MP 5MP 2MP 48MP 5MP 2MP 8MP 8MP 5G Capacity5000 Display Size16.76 cm (6.6 inch)Resolution2408 x 1080 PixelsResolution TypeFull HD+GPUARM Mali G57 MC2Display TypeFull HD+ TFT DisplayDisplay Colors16MOther Display Features90Hz Refresh Rate\n",
      "1936 : Storage2.27 MBRAM4  SystemAndroid 11Processor TypeMediatek Helio P35 (MT6765)Processor Speed2.3 13MP 2MP 2MP 13MP 2MP 2MP 5MP 5MP 4G Capacity1000 Display Size5.16 cm (2.03 inch)Resolution128 x 160 PixelsResolution TypeQVGA\n",
      "2455 : Storage16 GBRAM2 GBExpandable Storage128GB  SystemAndroid Marshmallow 6.0.1Processor TypeQualcomm Snapdragon 430 64-bit Octa Core 1.4GHzProcessor Speed1.4 13MP 5MP 3G Capacity4100 Display Size12.7 cm (5 inch)Resolution1280 x 720 PixelsResolution TypeHDGPUAdreno 505Other Display FeaturesIPS Display\n",
      "2483 : Storage256 GBRAM8  SystemAndroid MIUI 12, Android 11.0Processor Speed2.84 108MP 5G Capacity4520 Display Size16.94 cm (6.67 inch)Resolution2400x1080$$Pixels\n",
      "1322 : Storage128 GBRAM6 GBExpandable Storage512GB  SystemAndroid 10Processor TypeExynos 9611Processor Speed2.3 48MP 12MP 5MP 5MP 48MP 12MP 5MP 5MP 32MP 32MP 4G Capacity4000 Display Size16.51 cm (6.5 inch)Resolution2340 x 1080 PixelsResolution TypeFull HD+GPUARM | Mali G72 MP3Display TypeSuper AMOLED Infinity-O DisplayDisplay Colors16M\n",
      "2185 : Storage64 GBRAM3 GBExpandable Storage1TB  SystemAndroid Q ColorOS 12.1. 1Processor TypeMTK Helio G35Processor Speed2.3 8MP 5MP 4G Capacity5000 Display Size16.66 cm (6.56 inch)Resolution720 x 1612$$pixel\n"
     ]
    }
   ],
   "source": [
    "def random_values(col_name: str, total=6):\n",
    "    for i in range(0, total):\n",
    "        index = np.random.randint(df.shape[0])\n",
    "        print(index, \":\", df[col_name].iloc[index])\n",
    "\n",
    "\n",
    "random_values(\"corpus\")"
   ]
  },
  {
   "cell_type": "markdown",
   "id": "8215dc61",
   "metadata": {
    "papermill": {
     "duration": 0.010501,
     "end_time": "2023-07-29T14:23:14.441634",
     "exception": false,
     "start_time": "2023-07-29T14:23:14.431133",
     "status": "completed"
    },
    "tags": []
   },
   "source": [
    "## Lowercasing the corpus values"
   ]
  },
  {
   "cell_type": "code",
   "execution_count": 5,
   "id": "1b26870e",
   "metadata": {
    "papermill": {
     "duration": 0.024985,
     "end_time": "2023-07-29T14:23:14.478305",
     "exception": false,
     "start_time": "2023-07-29T14:23:14.453320",
     "status": "completed"
    },
    "tags": []
   },
   "outputs": [],
   "source": [
    "df[\"corpus\"] = df[\"corpus\"].str.lower()"
   ]
  },
  {
   "cell_type": "code",
   "execution_count": 6,
   "id": "cbf9be74",
   "metadata": {
    "papermill": {
     "duration": 0.021928,
     "end_time": "2023-07-29T14:23:14.510260",
     "exception": false,
     "start_time": "2023-07-29T14:23:14.488332",
     "status": "completed"
    },
    "tags": []
   },
   "outputs": [
    {
     "name": "stdout",
     "output_type": "stream",
     "text": [
      "2077 : storage128 gbram6 gbexpandable storage256gb  systemandroid oreo 8.1.0processor typemtk p60 octa core 2.0 ghzprocessor speed2 16mp 25mp 3g capacity3400 display size15.82 cm (6.23 inch)resolution2280 x 1080 pixelsresolution typefull hd+other display featuresscreen contrast: 1500:1, corning gorilla glass 5\n",
      "2175 : storage32 gbram3 gbexpandable storage256gb  systemandroid pie 9.0processor typemediatek helio p70 octa core 2.1 ghz aiprocessor speed2.1 13mp 2mp 13mp 3g capacity4230 display size15.8 cm (6.22 inch)resolution1520 x 720 pixelsresolution typehd+gpuarm mali-g72display colors16.7mother display featuresnarrow frame: 2.05mm, screen ratio: 88.30%, screen contrast: typical - 1200:1, minimum - 800:1, color saturation: typical - 69.5%, minimum - 65%, maximum brightness: typical - 450 nits, minimum - 400 nits, touch panel glass type: corning gorilla glass 3, in-cell touch panel technology, lcd ips screen\n",
      "284 : storage32 gbram2 gbexpandable storage512gb  systemandroid pie 9.0processor typequalcomm snapdragon 439processor speed1.95 12mp 12mp 8mp 4g capacity5000 display size15.8 cm (6.22 inch)resolution1520 x 720 pixelsresolution typehd+gpuadreno 505 at 650 mhzother display featuresscreen protection: gorilla glass 5 (front glass), screen mirror/cast\n",
      "1291 : storage64 gbram4 gbexpandable storage256gb  systemandroid 11processor typemediatek helio g85processor speed2 50mp 2mp 2mp 50mp 2mp 2mp 8mp 8mp 4g capacity6000 display size16.51 cm (6.5 inch)resolution1600 x 720 pixelsresolution typehd+gpuarm g52 mc2display typehd+ lcd in-cell displaydisplay colors16.7mother display features60 hz refresh rate, 20:9 aspect ratio, 88.70% screen-to-body ratio, 120 hz touch sampling rate, screen contrast: 1200:1 (min) 1500:1 (typ), brightness: 420 nits (typ), 570 nits (max), color saturation: ntsc 70% (typ), sunlight screen support, cog sealing process\n",
      "2211 : storage32 gbram3 gbexpandable storage128gb  systemandroid nougat 7.1.2processor typequalcomm snapdragon 425processor speed1.4 13mp 5mp 3g capacity3000 display size12.7 cm (5 inch)resolution1280 x 720 pixelsresolution typehdgpuadreno 308display typeipsother display featurescontrast ratio: 1000:1\n",
      "969 : storage64 gbram6 gbexpandable storage512gb  systemandroid 11processor typemediatek helio g95 octa coreprocessor speed2 64mp 8mp 2mp 2mp 64mp 8mp 2mp 2mp 13mp 13mp 4g capacity5000 display size16.33 cm (6.43 inch)resolution2400 x 1080 pixelsresolution typefull hd+gpuarm mali-g76display typefull hd+ super amoled dot displayhd game supportyes\n"
     ]
    }
   ],
   "source": [
    "random_values(\"corpus\")"
   ]
  },
  {
   "cell_type": "code",
   "execution_count": 7,
   "id": "4ed17092",
   "metadata": {
    "papermill": {
     "duration": 0.030024,
     "end_time": "2023-07-29T14:23:14.550356",
     "exception": false,
     "start_time": "2023-07-29T14:23:14.520332",
     "status": "completed"
    },
    "tags": []
   },
   "outputs": [
    {
     "data": {
      "text/plain": [
       "name        0\n",
       "ratings     0\n",
       "price       0\n",
       "imgURL      0\n",
       "corpus     12\n",
       "dtype: int64"
      ]
     },
     "execution_count": 7,
     "metadata": {},
     "output_type": "execute_result"
    }
   ],
   "source": [
    "df.isnull().sum()"
   ]
  },
  {
   "cell_type": "code",
   "execution_count": 8,
   "id": "6f91300c",
   "metadata": {
    "papermill": {
     "duration": 0.029375,
     "end_time": "2023-07-29T14:23:14.590002",
     "exception": false,
     "start_time": "2023-07-29T14:23:14.560627",
     "status": "completed"
    },
    "tags": []
   },
   "outputs": [],
   "source": [
    "df.dropna(inplace=True)"
   ]
  },
  {
   "cell_type": "code",
   "execution_count": 9,
   "id": "cbf2b53c",
   "metadata": {
    "papermill": {
     "duration": 0.056553,
     "end_time": "2023-07-29T14:23:14.656721",
     "exception": false,
     "start_time": "2023-07-29T14:23:14.600168",
     "status": "completed"
    },
    "tags": []
   },
   "outputs": [
    {
     "name": "stdout",
     "output_type": "stream",
     "text": [
      "max words len in corpus is: 1196\n"
     ]
    }
   ],
   "source": [
    "max_len = 0\n",
    "for i in range(0, len(df[\"corpus\"])):\n",
    "    try:\n",
    "        if len(df[\"corpus\"][i]) > max_len:\n",
    "            max_len = len(df[\"corpus\"][i])\n",
    "    except:\n",
    "        pass\n",
    "\n",
    "print(f\"max words len in corpus is: {max_len}\")"
   ]
  },
  {
   "cell_type": "code",
   "execution_count": 10,
   "id": "14293c2c",
   "metadata": {
    "papermill": {
     "duration": 0.038388,
     "end_time": "2023-07-29T14:23:14.705569",
     "exception": false,
     "start_time": "2023-07-29T14:23:14.667181",
     "status": "completed"
    },
    "tags": []
   },
   "outputs": [
    {
     "data": {
      "text/html": [
       "<div>\n",
       "<style scoped>\n",
       "    .dataframe tbody tr th:only-of-type {\n",
       "        vertical-align: middle;\n",
       "    }\n",
       "\n",
       "    .dataframe tbody tr th {\n",
       "        vertical-align: top;\n",
       "    }\n",
       "\n",
       "    .dataframe thead th {\n",
       "        text-align: right;\n",
       "    }\n",
       "</style>\n",
       "<table border=\"1\" class=\"dataframe\">\n",
       "  <thead>\n",
       "    <tr style=\"text-align: right;\">\n",
       "      <th></th>\n",
       "      <th>name</th>\n",
       "      <th>ratings</th>\n",
       "      <th>price</th>\n",
       "      <th>imgURL</th>\n",
       "      <th>corpus</th>\n",
       "    </tr>\n",
       "  </thead>\n",
       "  <tbody>\n",
       "    <tr>\n",
       "      <th>997</th>\n",
       "      <td>vivo Y51 (Titanium Sapphire, 128 GB)</td>\n",
       "      <td>4.3</td>\n",
       "      <td>21990</td>\n",
       "      <td>https://rukminim2.flixcart.com/image/312/312/k...</td>\n",
       "      <td>storage128 gbram8 gbexpandable storage1tb  sys...</td>\n",
       "    </tr>\n",
       "    <tr>\n",
       "      <th>1051</th>\n",
       "      <td>REDMI 10 Prime (Astral White, 128 GB)</td>\n",
       "      <td>4.2</td>\n",
       "      <td>14999</td>\n",
       "      <td>https://rukminim2.flixcart.com/image/312/312/k...</td>\n",
       "      <td>storage128 gbram6 gbexpandable storage512gb  s...</td>\n",
       "    </tr>\n",
       "    <tr>\n",
       "      <th>501</th>\n",
       "      <td>APPLE iPhone 12 mini (Black, 128 GB)</td>\n",
       "      <td>4.4</td>\n",
       "      <td>9537</td>\n",
       "      <td>https://rukminim2.flixcart.com/image/312/312/k...</td>\n",
       "      <td>storage128  systemios 14processor typea14 bion...</td>\n",
       "    </tr>\n",
       "    <tr>\n",
       "      <th>1186</th>\n",
       "      <td>OPPO F11 Pro (Thunder Black, 64 GB)</td>\n",
       "      <td>4.3</td>\n",
       "      <td>₹18,500</td>\n",
       "      <td>https://rukminim2.flixcart.com/image/312/312/k...</td>\n",
       "      <td>storage64 gbram6 gbexpandable storage256gb  sy...</td>\n",
       "    </tr>\n",
       "    <tr>\n",
       "      <th>2512</th>\n",
       "      <td>SAMSUNG Galaxy S22 Ultra 5G (Phantom Black, 51...</td>\n",
       "      <td>4.2</td>\n",
       "      <td>21072</td>\n",
       "      <td>https://rukminim2.flixcart.com/image/312/312/x...</td>\n",
       "      <td>storage512 gbram12  systemandroid 11processor ...</td>\n",
       "    </tr>\n",
       "    <tr>\n",
       "      <th>2220</th>\n",
       "      <td>MOTOROLA Edge 20 Fusion 5G (Cyber Teal, 128 GB)</td>\n",
       "      <td>4.1</td>\n",
       "      <td>20999</td>\n",
       "      <td>https://rukminim2.flixcart.com/image/312/312/k...</td>\n",
       "      <td>storage128 gbram8  systemandroid 11processor t...</td>\n",
       "    </tr>\n",
       "    <tr>\n",
       "      <th>294</th>\n",
       "      <td>OnePlus Nord 2T 5G (Gray Shadow, 128 GB)</td>\n",
       "      <td>4.4</td>\n",
       "      <td>28799</td>\n",
       "      <td>https://rukminim2.flixcart.com/image/312/312/x...</td>\n",
       "      <td>storage128 gbram8  systemandroid 13processor s...</td>\n",
       "    </tr>\n",
       "    <tr>\n",
       "      <th>1978</th>\n",
       "      <td>OPPO A12 (Flowing Silver, 64 GB)</td>\n",
       "      <td>4.4</td>\n",
       "      <td>₹10,990</td>\n",
       "      <td>https://rukminim2.flixcart.com/image/312/312/k...</td>\n",
       "      <td>storage64 gbram4 gbexpandable storage256gb  sy...</td>\n",
       "    </tr>\n",
       "    <tr>\n",
       "      <th>1400</th>\n",
       "      <td>SAMSUNG Galaxy A13 (White, 64 GB)</td>\n",
       "      <td>4.3</td>\n",
       "      <td>14499</td>\n",
       "      <td>https://rukminim2.flixcart.com/image/312/312/l...</td>\n",
       "      <td>storagenacall log  systemandroid 12processor t...</td>\n",
       "    </tr>\n",
       "    <tr>\n",
       "      <th>1678</th>\n",
       "      <td>SAMSUNG Galaxy S10 (Prism Blue, 128 GB)</td>\n",
       "      <td>4.2</td>\n",
       "      <td>4464</td>\n",
       "      <td>https://rukminim2.flixcart.com/image/312/312/j...</td>\n",
       "      <td>storage128 gbram8 gbexpandable storage512gb  s...</td>\n",
       "    </tr>\n",
       "  </tbody>\n",
       "</table>\n",
       "</div>"
      ],
      "text/plain": [
       "                                                   name  ratings    price  \\\n",
       "997                vivo Y51 (Titanium Sapphire, 128 GB)      4.3    21990   \n",
       "1051              REDMI 10 Prime (Astral White, 128 GB)      4.2    14999   \n",
       "501                APPLE iPhone 12 mini (Black, 128 GB)      4.4     9537   \n",
       "1186                OPPO F11 Pro (Thunder Black, 64 GB)      4.3  ₹18,500   \n",
       "2512  SAMSUNG Galaxy S22 Ultra 5G (Phantom Black, 51...      4.2    21072   \n",
       "2220    MOTOROLA Edge 20 Fusion 5G (Cyber Teal, 128 GB)      4.1    20999   \n",
       "294            OnePlus Nord 2T 5G (Gray Shadow, 128 GB)      4.4    28799   \n",
       "1978                   OPPO A12 (Flowing Silver, 64 GB)      4.4  ₹10,990   \n",
       "1400                  SAMSUNG Galaxy A13 (White, 64 GB)      4.3    14499   \n",
       "1678            SAMSUNG Galaxy S10 (Prism Blue, 128 GB)      4.2     4464   \n",
       "\n",
       "                                                 imgURL  \\\n",
       "997   https://rukminim2.flixcart.com/image/312/312/k...   \n",
       "1051  https://rukminim2.flixcart.com/image/312/312/k...   \n",
       "501   https://rukminim2.flixcart.com/image/312/312/k...   \n",
       "1186  https://rukminim2.flixcart.com/image/312/312/k...   \n",
       "2512  https://rukminim2.flixcart.com/image/312/312/x...   \n",
       "2220  https://rukminim2.flixcart.com/image/312/312/k...   \n",
       "294   https://rukminim2.flixcart.com/image/312/312/x...   \n",
       "1978  https://rukminim2.flixcart.com/image/312/312/k...   \n",
       "1400  https://rukminim2.flixcart.com/image/312/312/l...   \n",
       "1678  https://rukminim2.flixcart.com/image/312/312/j...   \n",
       "\n",
       "                                                 corpus  \n",
       "997   storage128 gbram8 gbexpandable storage1tb  sys...  \n",
       "1051  storage128 gbram6 gbexpandable storage512gb  s...  \n",
       "501   storage128  systemios 14processor typea14 bion...  \n",
       "1186  storage64 gbram6 gbexpandable storage256gb  sy...  \n",
       "2512  storage512 gbram12  systemandroid 11processor ...  \n",
       "2220  storage128 gbram8  systemandroid 11processor t...  \n",
       "294   storage128 gbram8  systemandroid 13processor s...  \n",
       "1978  storage64 gbram4 gbexpandable storage256gb  sy...  \n",
       "1400  storagenacall log  systemandroid 12processor t...  \n",
       "1678  storage128 gbram8 gbexpandable storage512gb  s...  "
      ]
     },
     "execution_count": 10,
     "metadata": {},
     "output_type": "execute_result"
    }
   ],
   "source": [
    "df.sample(10)"
   ]
  },
  {
   "cell_type": "code",
   "execution_count": 11,
   "id": "219253fe",
   "metadata": {
    "papermill": {
     "duration": 0.021899,
     "end_time": "2023-07-29T14:23:14.738521",
     "exception": false,
     "start_time": "2023-07-29T14:23:14.716622",
     "status": "completed"
    },
    "tags": []
   },
   "outputs": [
    {
     "name": "stdout",
     "output_type": "stream",
     "text": [
      "676 : https://rukminim2.flixcart.com/image/312/312/l0igvww0/mobile/y/j/1/-original-imagca5ge9yrbrzq.jpeg?q=70\n",
      "217 : https://rukminim2.flixcart.com/image/312/312/k87nxjk0/mobile/m/f/k/redmi-note-8-pro-mzb8314in-original-imafqaf3mak86q8e.jpeg?q=70\n",
      "612 : https://rukminim2.flixcart.com/image/312/312/kq6yefk0/mobile/i/w/m/11-lite-m2101k9ai-mi-original-imag496gkgqjrvvg.jpeg?q=70\n",
      "1569 : https://rukminim2.flixcart.com/image/312/312/l2p23rk0/mobile/7/v/w/-original-imagdznjzgvkkhtx.jpeg?q=70\n",
      "1629 : https://rukminim2.flixcart.com/image/312/312/k51cpe80pkrrdj/mobile/y/z/7/realme-5-rmx1911-original-imafje89tgyzdj7c.jpeg?q=70\n",
      "790 : https://rukminim2.flixcart.com/image/312/312/xif0q/mobile/e/d/r/-original-imagmym54wrhzgpn.jpeg?q=70\n"
     ]
    }
   ],
   "source": [
    "random_values(\"imgURL\")"
   ]
  },
  {
   "cell_type": "markdown",
   "id": "7e72097a",
   "metadata": {
    "papermill": {
     "duration": 0.010942,
     "end_time": "2023-07-29T14:23:14.781410",
     "exception": false,
     "start_time": "2023-07-29T14:23:14.770468",
     "status": "completed"
    },
    "tags": []
   },
   "source": [
    "## vectorization (converts words to vectors)"
   ]
  },
  {
   "cell_type": "code",
   "execution_count": 12,
   "id": "dd9126df",
   "metadata": {
    "papermill": {
     "duration": 0.020018,
     "end_time": "2023-07-29T14:23:16.062215",
     "exception": false,
     "start_time": "2023-07-29T14:23:16.042197",
     "status": "completed"
    },
    "tags": []
   },
   "outputs": [
    {
     "data": {
      "text/plain": [
       "array(['00', '000', '02', '03', '04', '05', '07', '07bother', '08', '09',\n",
       "       '0mp', '0primary', '0processor', '10', '100', '1000', '100000',\n",
       "       '1000000', '100mp', '103', '104', '106', '1080', '1080processor',\n",
       "       '1080resolution', '108mp', '10mp', '10processor', '11', '1100',\n",
       "       '1125', '1170', '1179', '11primary', '11processor', '12', '120',\n",
       "       '1200', '1200processor', '120hz', '1242', '1280processor', '1284',\n",
       "       '1290', '12mp', '12primary', '12processor', '13', '1300',\n",
       "       '1300processor', '1330', '1334', '135', '13mp', '13processor',\n",
       "       '14', '1400', '144', '1440', '144hz', '1480', '14processor', '15',\n",
       "       '1500', '1544', '15processor', '16', '160', '1600', '16000',\n",
       "       '1600resolution', '1612', '16mp', '16processor', '18', '180',\n",
       "       '1800', '180hz', '19', '1920', '1920hz', '1processor', '20', '200',\n",
       "       '2000000', '200mp', '20mp', '21', '22', '23', '2340', '24', '240',\n",
       "       '2400', '2400resolution', '2408', '240hz', '2460', '24mp', '25mm',\n",
       "       '25mp', '26', '27', '28', '2d', '2g', '2ghzprocessor', '2mm',\n",
       "       '2mp', '2processor', '2x', '2xhd', '30', '308display', '30hz',\n",
       "       '32', '326', '32mp', '33', '35', '36', '360', '37', '38', '39',\n",
       "       '3d', '3g', '3ghzprocessor', '3mp', '40', '400', '400nits', '401',\n",
       "       '4096', '41', '420', '420nits', '425processor', '43', '430',\n",
       "       '439processor', '44', '440', '44mm', '44mp', '45', '450',\n",
       "       '4500000', '450processor', '460processor', '46mm', '47', '48',\n",
       "       '480', '480hz', '480nits', '488', '48hz', '48mp', '49', '4g',\n",
       "       '4ghzprocessor', '4mp', '50', '500', '5000000', '500nit',\n",
       "       '500nits', '505', '505display', '505other', '506display',\n",
       "       '509display', '50hz', '50mp', '51', '512display', '515', '52',\n",
       "       '53', '54', '55', '550', '56', '57', '58', '580', '59', '5d', '5g',\n",
       "       '5gprocessor', '5mp', '60', '600', '60000', '6020processor',\n",
       "       '60hz', '60mp', '61', '610', '610display', '612display',\n",
       "       '616display', '618display', '619display', '62', '620display',\n",
       "       '625', '625processor', '636processor', '63mp', '64', '640',\n",
       "       '640display', '642ldisplay', '64mp', '65', '650', '650display',\n",
       "       '66', '660', '660display', '662processor', '665', '665processor',\n",
       "       '67', '675processor', '680', '680processor', '69', '695',\n",
       "       '695processor', '6mm', '6processor', '70', '700', '700processor',\n",
       "       '7050processor', '70mm', '71', '712', '72', '720', '720gprocessor',\n",
       "       '720resolution', '73', '730display', '730processor',\n",
       "       '732gprocessor', '74', '740display', '75', '750', '750gprocessor',\n",
       "       '76', '765gprocessor', '77', '778g', '778gprocessor', '78', '7m',\n",
       "       '7mother', '7mp', '7processor', '7t', '80', '800', '800uprocessor',\n",
       "       '81', '810', '8100processor', '810processor', '82', '828', '83',\n",
       "       '84', '85', '850', '850processor', '855', '855processor', '86',\n",
       "       '865processor', '87', '870processor', '87mm', '88', '888',\n",
       "       '888processor', '89', '8mp', '8processor', '90', '900',\n",
       "       '900processor', '90hz', '90nit', '91', '92', '920processor', '93',\n",
       "       '94', '95', '950', '96', '9611', '9611processor', '97', '98',\n",
       "       '98mm', '99', '9processor', 'a10', 'a11', 'a22processor',\n",
       "       'a618display', 'a9', 'aa', 'access', 'active', 'adaptive',\n",
       "       'adjustment', 'adreno', 'agc', 'aieprocessor', 'all', 'always',\n",
       "       'amazon', 'ambient', 'amoled', 'amoleddisplay', 'amoledhd',\n",
       "       'amoledother', 'an', 'and', 'android', 'angle', 'angles', 'anti',\n",
       "       'anywhere', 'area', 'arrangement', 'aspect', 'at', 'auto', 'back',\n",
       "       'backlit', 'based', 'bazel', 'bezel', 'billionother', 'bionic',\n",
       "       'bit', 'blue', 'body', 'border', 'bottom', 'brightness', 'by',\n",
       "       'c3', 'camera', 'capacitive', 'capacity1000', 'capacity1440',\n",
       "       'capacity1715', 'capacity2750', 'capacity2915', 'capacity3000',\n",
       "       'capacity3080', 'capacity3180', 'capacity3200', 'capacity3300',\n",
       "       'capacity3400', 'capacity3500', 'capacity3700', 'capacity3900',\n",
       "       'capacity4000', 'capacity4015', 'capacity4020', 'capacity4030',\n",
       "       'capacity4050', 'capacity4100', 'capacity4115', 'capacity4200',\n",
       "       'capacity4230', 'capacity4250', 'capacity4300', 'capacity4400',\n",
       "       'capacity4500', 'capacity4520', 'capacity4600', 'capacity4700',\n",
       "       'capacity4800', 'capacity5000', 'capacity5020', 'capacity5160',\n",
       "       'capacity6000', 'capacity7000', 'capacity800', 'care', 'cd',\n",
       "       'cell', 'celldisplay', 'cellother', 'certification', 'certified',\n",
       "       'channel', 'characters', 'chip', 'clear', 'clock', 'cm', 'coating',\n",
       "       'cof', 'cog', 'color', 'coloros', 'colorother', 'colors',\n",
       "       'colors1', 'colors10', 'colors16', 'colors16m', 'colors16mother',\n",
       "       'colors65', 'colorscontrast', 'colour', 'comfort', 'contrast',\n",
       "       'control', 'core', 'coredisplay', 'coreocta', 'coreprocessor',\n",
       "       'corning', 'cover', 'coverage', 'curved', 'cut', 'dc', 'dci',\n",
       "       'degree', 'design', 'designed', 'dewdrop', 'diagonal', 'dimensity',\n",
       "       'dimming', 'dinorex', 'display', 'displaydisplay', 'displaygpu4',\n",
       "       'displaygpu5', 'displaygpuadreno', 'displaygpuarm',\n",
       "       'displaygpupowervr', 'displaygpuqualcomm', 'displayhd',\n",
       "       'displaymate', 'displayother', 'dolby', 'domain', 'dot', 'down',\n",
       "       'dual', 'dynamic', 'e3', 'edge', 'edition', 'enhancer',\n",
       "       'experience', 'exynos', 'eye', 'f01', 'face', 'faster',\n",
       "       'features120', 'features1200nits', 'features120hz', 'features1300',\n",
       "       'features1400', 'features16', 'features180', 'features180hz',\n",
       "       'features19', 'features2', 'features20', 'features6', 'features60',\n",
       "       'features89', 'features90', 'features90hz', 'featuresadaptive',\n",
       "       'featuresaspect', 'featuresbezel', 'featurescontrast',\n",
       "       'featurescorning', 'featuresdisplay', 'featuresdolby',\n",
       "       'featuresdynamic', 'featuresfullview', 'featureshalo',\n",
       "       'featureshdr', 'featuresin', 'featuresips', 'featuresled',\n",
       "       'featuresmulti', 'featuresnarrow', 'featureson', 'featuresrefresh',\n",
       "       'featuresretina', 'featuresscreen', 'featuressuper',\n",
       "       'featurestouch', 'featuresvideo', 'featureswidescreen', 'fhd',\n",
       "       'film', 'finger', 'fingerprint', 'fluiddisplay', 'for', 'fps',\n",
       "       'frame', 'frequencygsm', 'from', 'front', 'full', 'fullview',\n",
       "       'fusion', 'g25processor', 'g35processor', 'g37processor', 'g52',\n",
       "       'g52display', 'g57', 'g57display', 'g610', 'g68', 'g68display',\n",
       "       'g70processor', 'g71', 'g72', 'g76', 'g76display', 'g77',\n",
       "       'g77display', 'g80processor', 'g85processor', 'g88processor',\n",
       "       'g90tprocessor', 'g95processor', 'g96processor', 'g99processor',\n",
       "       'game', 'gameplay', 'gamut', 'gbexpandable', 'gbram1', 'gbram12',\n",
       "       'gbram128', 'gbram16', 'gbram2', 'gbram3', 'gbram4', 'gbram6',\n",
       "       'gbram8', 'gbtotal', 'ge8320', 'ge8320display', 'ge8322display',\n",
       "       'gen', 'generation', 'gentle', 'gestures', 'gff', 'gg3', 'gg5',\n",
       "       'ghz', 'ghzprocessor', 'glass', 'go', 'goprocessor', 'gorilla',\n",
       "       'gpu', 'gpuadreno', 'gpuarm', 'gpuge8320display', 'gpuimagination',\n",
       "       'gpuimg', 'gpumali', 'gpupowervr', 'gpuqualcomm', 'graphics',\n",
       "       'gt7600', 'halo', 'haptic', 'hbm', 'hd', 'hdgpuadreno', 'hdgpuarm',\n",
       "       'hdr', 'hdr10', 'helio', 'high', 'hios', 'hole', 'hz', 'in',\n",
       "       'incell', 'inch', 'increase', 'infinity', 'intensive', 'ion',\n",
       "       'ips', 'ipsdisplay', 'ipsother', 'is', 'island', 'kitkat',\n",
       "       'languages', 'layer', 'lcd', 'lcddisplay', 'lcdhd', 'lcdother',\n",
       "       'led', 'left', 'level', 'light', 'liquid', 'local', 'lollipop',\n",
       "       'low', 'lower', 'ltps', 'm2', 'mali', 'marshmallow', 'material',\n",
       "       'max', 'maximum', 'mbram4', 'mc2', 'mc2display', 'mc3display',\n",
       "       'mc4display', 'mc6display', 'mc9display', 'mediatek', 'memc',\n",
       "       'memory128gb', 'memory64gb', 'metal', 'mhz', 'mhzdisplay',\n",
       "       'mhzother', 'millionother', 'min', 'minimum', 'miui', 'mm',\n",
       "       'mn228', 'mobile', 'mode', 'more', 'mother', 'motion',\n",
       "       'mp1display', 'mp2display', 'mp3', 'mp3display', 'mp4display',\n",
       "       'mp5display', 'mt6762processor', 'mt6765', 'mt6771v', 'multi',\n",
       "       'multiple', 'nano', 'narrow', 'neg', 'new', 'night', 'nit', 'nits',\n",
       "       'nm', 'no', 'normal', 'notch', 'notmentioned', 'nougat', 'ntsc',\n",
       "       'octa', 'octacoreprocessor', 'of', 'off', 'oled', 'oleophobic',\n",
       "       'oleophpbic', 'on', 'oncell', 'oneplus', 'optimised', 'oreo', 'os',\n",
       "       'other', 'outdoor', 'outside', 'over', 'oxygen', 'oxygenos',\n",
       "       'oxygenosprocessor', 'p22', 'p22processor', 'p2i', 'p3', 'p35',\n",
       "       'p35processor', 'p60', 'p70', 'p70processor', 'p95processor',\n",
       "       'panda', 'panel', 'peak', 'percent', 'performance', 'peripheral',\n",
       "       'phone', 'pie', 'pixel', 'pixelgpuadreno', 'pixelresolution',\n",
       "       'pixels', 'pixelsdisplay', 'pixelsgpuadreno', 'pixelsgpuapple',\n",
       "       'pixelsgpuarm', 'pixelsresolution', 'platformprocessor',\n",
       "       'playback', 'plusprocessor', 'points', 'poled', 'powervr',\n",
       "       'powervrdisplay', 'ppi', 'print', 'pro', 'process', 'processor',\n",
       "       'processorprocessor', 'promotion', 'proof', 'proportion',\n",
       "       'protected', 'protection', 'protective', 'protector', 'punch',\n",
       "       'pwm', 'pwm2160hz', 'quad', 'rate', 'rates', 'ratio', 'rdother',\n",
       "       'reachability', 'reading', 'refresh', 'repellent', 'resistant',\n",
       "       'resolution', 'resolution1080', 'resolution1080x2400',\n",
       "       'resolution1136', 'resolution128', 'resolution1280',\n",
       "       'resolution1334', 'resolution1440', 'resolution1520',\n",
       "       'resolution1560', 'resolution1600', 'resolution1600x720',\n",
       "       'resolution1612', 'resolution1612x720', 'resolution1640',\n",
       "       'resolution1650', 'resolution1650x720', 'resolution1792',\n",
       "       'resolution1920', 'resolution1920x1080', 'resolution2160',\n",
       "       'resolution2160x1080', 'resolution2280', 'resolution2340',\n",
       "       'resolution2376', 'resolution2400', 'resolution2400x1080',\n",
       "       'resolution2404', 'resolution2408', 'resolution2412',\n",
       "       'resolution2436', 'resolution2460', 'resolution2480',\n",
       "       'resolution2532', 'resolution2556', 'resolution2640',\n",
       "       'resolution2688', 'resolution2772x1240', 'resolution2778',\n",
       "       'resolution2796', 'resolution3088', 'resolution3216',\n",
       "       'resolution720', 'resolution720x1600', 'resolution750', 'retina',\n",
       "       'rheinland', 'right', 's5e8535', 'samoled', 'sampling', 'samsung',\n",
       "       'saturation', 'sc9863a1processor', 'schott', 'scratch', 'screen',\n",
       "       'sdm450', 'sealing', 'seamless', 'sensor', 'sgs', 'si', 'side',\n",
       "       'simultaneously', 'six', 'size', 'size10', 'size11', 'size12',\n",
       "       'size13', 'size14', 'size15', 'size16', 'size17', 'size19',\n",
       "       'size3', 'size5', 'slim', 'smart', 'smooth', 'snapdragon', 'space',\n",
       "       'speed1', 'speed2', 'speed208', 'speed3', 'speed90', 'splash',\n",
       "       'srgb', 'standard', 'static', 'storage1024', 'storage128',\n",
       "       'storage128gb', 'storage16', 'storage1tb', 'storage2',\n",
       "       'storage256', 'storage256gb', 'storage2tb', 'storage32',\n",
       "       'storage512', 'storage512gb', 'storage64', 'storage8',\n",
       "       'stroboscopic', 'sunlight', 'sunshine', 'super', 'supplier',\n",
       "       'support', 'supports', 'supportyes', 'supportyesdisplay',\n",
       "       'supportyesother', 'sync', 'systemandroid',\n",
       "       'systemandroidprocessor', 'systemios', 't2x', 't606processor',\n",
       "       't610processor', 't612processor', 't616processor', 't830', 'tap',\n",
       "       'technology', 'technologyhd', 'technologyother', 'temperature',\n",
       "       'texture', 'tft', 'tftother', 'than', 'that', 'the', 'to', 'tone',\n",
       "       'top', 'touch', 'tp', 'true', 'tuv', 'typ', 'type', 'type2',\n",
       "       'typea10', 'typea11', 'typea12', 'typea13', 'typea14', 'typea15',\n",
       "       'typea16', 'typea6', 'typea8', 'typea9', 'typeall', 'typeamoled',\n",
       "       'typeamoleddisplay', 'typeamoledother', 'typeapple',\n",
       "       'typecapacitive', 'typedimensity', 'typedotdisplayhd',\n",
       "       'typedynamic', 'typeexynos', 'typefhd', 'typefluid', 'typefull',\n",
       "       'typeg37processor', 'typehd', 'typehddisplay', 'typehdgpuadreno',\n",
       "       'typehdgpumali', 'typehelio', 'typein', 'typeips', 'typeipsother',\n",
       "       'typelcdhd', 'typeled', 'typeli', 'typeliquid', 'typemediatek',\n",
       "       'typemt6763tprocessor', 'typemtk', 'typeocta', 'typepls',\n",
       "       'typequad', 'typequalcomm', 'typeretina', 'typesamsung', 'typesec',\n",
       "       'typesnapdragon', 'typesuper', 'typetft', 'typetftdisplay',\n",
       "       'typeunisoc', 'typewidescreen', 'typical', 'tüv', 'ultra', 'under',\n",
       "       'unlock', 'up', 'upper', 'upto', 'usb', 'value', 'victus', 'view',\n",
       "       'viewing', 'vision', 'visuals', 'vivid', 'wake', 'water',\n",
       "       'waterdrop', 'wide', 'widescreen', 'will', 'with', 'xdr',\n",
       "       'xensation', 'you', 'zoom'], dtype=object)"
      ]
     },
     "execution_count": 12,
     "metadata": {},
     "output_type": "execute_result"
    }
   ],
   "source": [
    "cont_vect = CountVectorizer(max_features=1000)\n",
    "\n",
    "arrays = cont_vect.fit_transform(df[\"corpus\"])\n",
    "\n",
    "vectors = arrays.toarray()\n",
    "\n",
    "cont_vect.get_feature_names_out()"
   ]
  },
  {
   "cell_type": "markdown",
   "id": "44af0600",
   "metadata": {
    "papermill": {
     "duration": 0.011531,
     "end_time": "2023-07-29T14:23:16.389632",
     "exception": false,
     "start_time": "2023-07-29T14:23:16.378101",
     "status": "completed"
    },
    "tags": []
   },
   "source": [
    "## Calculating cosine similarity for recommendation"
   ]
  },
  {
   "cell_type": "code",
   "execution_count": 13,
   "id": "cd994a46",
   "metadata": {
    "papermill": {
     "duration": 0.232999,
     "end_time": "2023-07-29T14:23:16.779821",
     "exception": false,
     "start_time": "2023-07-29T14:23:16.546822",
     "status": "completed"
    },
    "tags": []
   },
   "outputs": [
    {
     "data": {
      "text/plain": [
       "(2534, 2534)"
      ]
     },
     "execution_count": 13,
     "metadata": {},
     "output_type": "execute_result"
    }
   ],
   "source": [
    "similarity = cosine_similarity(vectors)\n",
    "similarity.shape"
   ]
  },
  {
   "cell_type": "code",
   "execution_count": 14,
   "id": "227611f9",
   "metadata": {
    "papermill": {
     "duration": 0.046028,
     "end_time": "2023-07-29T14:23:16.851181",
     "exception": false,
     "start_time": "2023-07-29T14:23:16.805153",
     "status": "completed"
    },
    "tags": []
   },
   "outputs": [
    {
     "data": {
      "text/plain": [
       "array([0.3345748 , 0.17485208, 0.53136893, ..., 0.57564968, 0.27586342,\n",
       "       0.37283655])"
      ]
     },
     "execution_count": 14,
     "metadata": {},
     "output_type": "execute_result"
    }
   ],
   "source": [
    "similarity[3]"
   ]
  },
  {
   "cell_type": "code",
   "execution_count": 15,
   "id": "eab6fee3",
   "metadata": {
    "papermill": {
     "duration": 0.029012,
     "end_time": "2023-07-29T14:23:16.892331",
     "exception": false,
     "start_time": "2023-07-29T14:23:16.863319",
     "status": "completed"
    },
    "tags": []
   },
   "outputs": [
    {
     "data": {
      "text/plain": [
       "[(68, 0.9999999999999999),\n",
       " (303, 0.9999999999999999),\n",
       " (616, 0.9850746268656716),\n",
       " (1461, 0.9850746268656716),\n",
       " (457, 0.9701492537313433),\n",
       " (1027, 0.9701492537313433),\n",
       " (1735, 0.9701492537313433),\n",
       " (569, 0.9468131937613656),\n",
       " (1123, 0.9468131937613656),\n",
       " (1540, 0.9468131937613656)]"
      ]
     },
     "execution_count": 15,
     "metadata": {},
     "output_type": "execute_result"
    }
   ],
   "source": [
    "sorted(list(enumerate(similarity[0])), reverse=True, key=lambda x: x[1])[1:11]"
   ]
  },
  {
   "cell_type": "code",
   "execution_count": 16,
   "id": "c6f27ea2",
   "metadata": {
    "papermill": {
     "duration": 0.024763,
     "end_time": "2023-07-29T14:23:16.928866",
     "exception": false,
     "start_time": "2023-07-29T14:23:16.904103",
     "status": "completed"
    },
    "tags": []
   },
   "outputs": [],
   "source": [
    "def recommend(mobile):\n",
    "    mobile_index = df[df[\"name\"] == mobile].index[0]\n",
    "    similarity_array = similarity[mobile_index]\n",
    "    similar_10_mobiles = sorted(\n",
    "        list(enumerate(similarity_array)), reverse=True, key=lambda x: x[1]\n",
    "    )[1:11]\n",
    "\n",
    "    for i in similar_10_mobiles:\n",
    "        print(df[\"name\"].iloc[i[0]])"
   ]
  },
  {
   "cell_type": "code",
   "execution_count": 17,
   "id": "550c3421",
   "metadata": {
    "papermill": {
     "duration": 0.027294,
     "end_time": "2023-07-29T14:23:16.968320",
     "exception": false,
     "start_time": "2023-07-29T14:23:16.941026",
     "status": "completed"
    },
    "tags": []
   },
   "outputs": [
    {
     "name": "stdout",
     "output_type": "stream",
     "text": [
      "APPLE iPhone 13 mini ((PRODUCT)RED, 128 GB)\n",
      "APPLE iPhone 13 mini (Starlight, 128 GB)\n",
      "APPLE iPhone 13 mini (Green, 128 GB)\n",
      "APPLE iPhone 13 mini (Midnight, 128 GB)\n",
      "APPLE iPhone 13 mini (Green, 256 GB)\n",
      "APPLE iPhone 13 mini (Midnight, 512 GB)\n",
      "APPLE iPhone 13 mini (Pink, 512 GB)\n",
      "APPLE iPhone 13 mini (Starlight, 256 GB)\n",
      "APPLE iPhone 13 mini (Midnight, 256 GB)\n",
      "APPLE iPhone 13 mini (Pink, 256 GB)\n"
     ]
    }
   ],
   "source": [
    "recommend(\"APPLE iPhone 13 mini (Blue, 128 GB)\")"
   ]
  }
 ],
 "metadata": {
  "kernelspec": {
   "display_name": "Python 3 (ipykernel)",
   "language": "python",
   "name": "python3"
  },
  "language_info": {
   "codemirror_mode": {
    "name": "ipython",
    "version": 3
   },
   "file_extension": ".py",
   "mimetype": "text/x-python",
   "name": "python",
   "nbconvert_exporter": "python",
   "pygments_lexer": "ipython3",
   "version": "3.11.6"
  },
  "papermill": {
   "default_parameters": {},
   "duration": 16.654361,
   "end_time": "2023-07-29T14:23:18.276427",
   "environment_variables": {},
   "exception": null,
   "input_path": "__notebook__.ipynb",
   "output_path": "__notebook__.ipynb",
   "parameters": {},
   "start_time": "2023-07-29T14:23:01.622066",
   "version": "2.4.0"
  }
 },
 "nbformat": 4,
 "nbformat_minor": 5
}
